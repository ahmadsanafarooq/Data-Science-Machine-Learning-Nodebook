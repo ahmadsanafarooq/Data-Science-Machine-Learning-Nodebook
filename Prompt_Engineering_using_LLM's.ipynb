{
  "nbformat": 4,
  "nbformat_minor": 0,
  "metadata": {
    "colab": {
      "provenance": [],
      "authorship_tag": "ABX9TyPAHgtKssmKkcrhLs1WC8TQ",
      "include_colab_link": true
    },
    "kernelspec": {
      "name": "python3",
      "display_name": "Python 3"
    },
    "language_info": {
      "name": "python"
    }
  },
  "cells": [
    {
      "cell_type": "markdown",
      "metadata": {
        "id": "view-in-github",
        "colab_type": "text"
      },
      "source": [
        "<a href=\"https://colab.research.google.com/github/ahmadsanafarooq/Data-Science-Machine-Learning-Nodebook/blob/main/Prompt_Engineering_using_LLM's.ipynb\" target=\"_parent\"><img src=\"https://colab.research.google.com/assets/colab-badge.svg\" alt=\"Open In Colab\"/></a>"
      ]
    },
    {
      "cell_type": "code",
      "source": [
        "import openai\n",
        "from datasets import load_dataset\n",
        "from tqdm import tqdm\n",
        "import random\n"
      ],
      "metadata": {
        "id": "6FfI2LwhJReU"
      },
      "execution_count": 2,
      "outputs": []
    },
    {
      "cell_type": "code",
      "source": [
        "from google.colab import userdata\n",
        "OPENAI_API_KEY = userdata.get('open_ai')"
      ],
      "metadata": {
        "id": "KN18vBABPyQh"
      },
      "execution_count": 3,
      "outputs": []
    },
    {
      "cell_type": "code",
      "source": [
        "# Set your OpenAI API key\n",
        "openai.api_key = OPENAI_API_KEY\n",
        "# Load MedQA dataset from Hugging Face\n",
        "dataset = load_dataset(\"bigbio/med_qa\", split=\"test[:100]\")\n"
      ],
      "metadata": {
        "id": "5pNJzAA4JfxE"
      },
      "execution_count": null,
      "outputs": []
    },
    {
      "cell_type": "code",
      "source": [
        "# Convert HuggingFace format to usable dicts\n",
        "qa_pairs = [{\n",
        "    \"question\": item[\"question\"],\n",
        "    \"choices\": item[\"options\"],\n",
        "    \"answer\": item[\"answer\"]\n",
        "} for item in dataset]"
      ],
      "metadata": {
        "id": "QuiKZBV3K8Zx"
      },
      "execution_count": 5,
      "outputs": []
    },
    {
      "cell_type": "markdown",
      "source": [
        "# **Few Shot Prompting**"
      ],
      "metadata": {
        "id": "KxG7RE_fM9Fw"
      }
    },
    {
      "cell_type": "code",
      "source": [
        "def get_response(messages, model=\"gpt-4o-mini\"):\n",
        "    response = openai.chat.completions.create(\n",
        "        model=model,\n",
        "        messages=messages\n",
        "    )\n",
        "    return response.choices[0].message.content"
      ],
      "metadata": {
        "id": "gPw-9keAWpba"
      },
      "execution_count": 19,
      "outputs": []
    },
    {
      "cell_type": "code",
      "source": [
        "# Define system role\n",
        "system_role = \"You are a helpful and harmless AI assistant.\""
      ],
      "metadata": {
        "id": "k-AQEpn6WqWs"
      },
      "execution_count": 7,
      "outputs": []
    },
    {
      "cell_type": "code",
      "source": [
        "for i in range(5):\n",
        "    pair = qa_pairs[i]\n",
        "    print(f\"Question: {pair['question']}\")\n",
        "\n",
        "    # Print choices in the desired format\n",
        "    for choice in pair['choices']:\n",
        "        print(f\"{choice['key']} ) {choice['value']}\")\n",
        "\n",
        "    print(f\"Answer: {pair['answer']}\\n\")"
      ],
      "metadata": {
        "colab": {
          "base_uri": "https://localhost:8080/",
          "height": 0
        },
        "id": "GjKzubnqY7DR",
        "outputId": "99991baa-608c-44bf-b49e-7e2dca66a1b1"
      },
      "execution_count": 8,
      "outputs": [
        {
          "output_type": "stream",
          "name": "stdout",
          "text": [
            "Question: A junior orthopaedic surgery resident is completing a carpal tunnel repair with the department chairman as the attending physician. During the case, the resident inadvertently cuts a flexor tendon. The tendon is repaired without complication. The attending tells the resident that the patient will do fine, and there is no need to report this minor complication that will not harm the patient, as he does not want to make the patient worry unnecessarily. He tells the resident to leave this complication out of the operative report. Which of the following is the correct next action for the resident to take?\n",
            "A ) Disclose the error to the patient but leave it out of the operative report\n",
            "B ) Disclose the error to the patient and put it in the operative report\n",
            "C ) Tell the attending that he cannot fail to disclose this mistake\n",
            "D ) Report the physician to the ethics committee\n",
            "E ) Refuse to dictate the operative report\n",
            "Answer: Tell the attending that he cannot fail to disclose this mistake\n",
            "\n",
            "Question: A 67-year-old man with transitional cell carcinoma of the bladder comes to the physician because of a 2-day history of ringing sensation in his ear. He received this first course of neoadjuvant chemotherapy 1 week ago. Pure tone audiometry shows a sensorineural hearing loss of 45 dB. The expected beneficial effect of the drug that caused this patient's symptoms is most likely due to which of the following actions?\n",
            "A ) Inhibition of thymidine synthesis\n",
            "B ) Inhibition of proteasome\n",
            "C ) Hyperstabilization of microtubules\n",
            "D ) Generation of free radicals\n",
            "E ) Cross-linking of DNA\n",
            "Answer: Cross-linking of DNA\n",
            "\n",
            "Question: Two weeks after undergoing an emergency cardiac catherization with stenting for unstable angina pectoris, a 61-year-old man has decreased urinary output and malaise. He has type 2 diabetes mellitus and osteoarthritis of the hips. Prior to admission, his medications were insulin and naproxen. He was also started on aspirin, clopidogrel, and metoprolol after the coronary intervention. His temperature is 38°C (100.4°F), pulse is 93/min, and blood pressure is 125/85 mm Hg. Examination shows mottled, reticulated purplish discoloration of the feet. Laboratory studies show:\n",
            "Hemoglobin count 14 g/dL\n",
            "Leukocyte count 16,400/mm3\n",
            "Segmented neutrophils 56%\n",
            "Eosinophils 11%\n",
            "Lymphocytes 31%\n",
            "Monocytes 2%\n",
            "Platelet count 260,000/mm3\n",
            "Erythrocyte sedimentation rate 68 mm/h\n",
            "Serum\n",
            "Urea nitrogen 25 mg/dL\n",
            "Creatinine 4.2 mg/dL\n",
            "Renal biopsy shows intravascular spindle-shaped vacuoles. Which of the following is the most likely cause of this patient's symptoms?\"\n",
            "A ) Renal papillary necrosis\n",
            "B ) Allergic interstitial nephritis\n",
            "C ) Cholesterol embolization\n",
            "D ) Eosinophilic granulomatosis with polyangiitis\n",
            "E ) Polyarteritis nodosa\n",
            "Answer: Cholesterol embolization\n",
            "\n",
            "Question: A 39-year-old woman is brought to the emergency department because of fevers, chills, and left lower quadrant pain. Her temperature is 39.1°C (102.3°F), pulse is 126/min, respirations are 28/min, and blood pressure is 80/50 mm Hg. There is blood oozing around the site of a peripheral intravenous line. Pelvic examination shows mucopurulent discharge from the cervical os and left adnexal tenderness. Laboratory studies show:\n",
            "Platelet count 14,200/mm3\n",
            "Fibrinogen 83 mg/mL (N = 200–430 mg/dL)\n",
            "D-dimer 965 ng/mL (N < 500 ng/mL)\n",
            "When phenol is applied to a sample of the patient's blood at 90°C, a phosphorylated N-acetylglucosamine dimer with 6 fatty acids attached to a polysaccharide side chain is identified. A blood culture is most likely to show which of the following?\"\n",
            "A ) Coagulase-positive, gram-positive cocci forming mauve-colored colonies on methicillin-containing agar\n",
            "B ) Encapsulated, gram-negative coccobacilli forming grey-colored colonies on charcoal blood agar\n",
            "C ) Spore-forming, gram-positive bacilli forming yellow colonies on casein agar\n",
            "D ) Lactose-fermenting, gram-negative rods forming pink colonies on MacConkey agar\n",
            "E ) Gamma-hemolytic, gram-positive cocci forming green colonies on vancomycin agar\n",
            "Answer: Lactose-fermenting, gram-negative rods forming pink colonies on MacConkey agar\n",
            "\n",
            "Question: A 35-year-old man comes to the physician because of itchy, watery eyes for the past week. He has also been sneezing multiple times a day during this period. He had a similar episode 1 year ago around springtime. He has iron deficiency anemia and ankylosing spondylitis. Current medications include ferrous sulfate, artificial tear drops, and indomethacin. He works as an elementary school teacher. His vital signs are within normal limits. Visual acuity is 20/20 without correction. Physical examination shows bilateral conjunctival injection with watery discharge. The pupils are 3 mm, equal, and reactive to light. Examination of the anterior chamber of the eye is unremarkable. Which of the following is the most appropriate treatment?\n",
            "A ) Erythromycin ointment\n",
            "B ) Ketotifen eye drops\n",
            "C ) Warm compresses\n",
            "D ) Fluorometholone eye drops\n",
            "E ) Latanoprost eye drops\n",
            "Answer: Ketotifen eye drops\n",
            "\n"
          ]
        }
      ]
    },
    {
      "cell_type": "code",
      "source": [
        "user_prompt = f\"\"\"\n",
        "Question: {qa_pairs[0]['question']}\n",
        "\n",
        "Choices:\n",
        "A) {qa_pairs[0]['choices'][0]['value']}\n",
        "B) {qa_pairs[0]['choices'][1]['value']}\n",
        "C) {qa_pairs[0]['choices'][2]['value']}\n",
        "D) {qa_pairs[0]['choices'][3]['value']}\n",
        "E) {qa_pairs[0]['choices'][4]['value']}\n",
        "\n",
        "Answer: {qa_pairs[0]['answer']}  ,\n",
        "\n",
        "Question: {qa_pairs[1]['question']}\n",
        "\n",
        "Choices:\n",
        "A) {qa_pairs[1]['choices'][0]['value']}\n",
        "B) {qa_pairs[1]['choices'][1]['value']}\n",
        "C) {qa_pairs[1]['choices'][2]['value']}\n",
        "D) {qa_pairs[1]['choices'][3]['value']}\n",
        "E) {qa_pairs[1]['choices'][4]['value']}\n",
        "\n",
        "Answer: {qa_pairs[1]['answer']}  ,\n",
        "\n",
        "Question: {qa_pairs[2]['question']}\n",
        "\n",
        "Choices:\n",
        "A) {qa_pairs[2]['choices'][0]['value']}\n",
        "B) {qa_pairs[2]['choices'][1]['value']}\n",
        "C) {qa_pairs[2]['choices'][2]['value']}\n",
        "D) {qa_pairs[2]['choices'][3]['value']}\n",
        "E) {qa_pairs[2]['choices'][4]['value']}\n",
        "\n",
        "Answer: {qa_pairs[2]['answer']}  ,\n",
        "\n",
        "Question: {qa_pairs[3]['question']}\n",
        "\n",
        "Choices:\n",
        "A) {qa_pairs[3]['choices'][0]['value']}\n",
        "B) {qa_pairs[3]['choices'][1]['value']}\n",
        "C) {qa_pairs[3]['choices'][2]['value']}\n",
        "D) {qa_pairs[3]['choices'][3]['value']}\n",
        "E) {qa_pairs[3]['choices'][4]['value']}\n",
        "\n",
        "Answer: {qa_pairs[3]['answer']} ,\n",
        "\n",
        "Question: {qa_pairs[4]['question']}\n",
        "\n",
        "Choices:\n",
        "A) {qa_pairs[4]['choices'][0]['value']}\n",
        "B) {qa_pairs[4]['choices'][1]['value']}\n",
        "C) {qa_pairs[4]['choices'][2]['value']}\n",
        "D) {qa_pairs[4]['choices'][3]['value']}\n",
        "E) {qa_pairs[4]['choices'][4]['value']}\n",
        "\n",
        "Answer:\n",
        "\n",
        "\"\"\"\n"
      ],
      "metadata": {
        "id": "_JprQhofZA1l"
      },
      "execution_count": 9,
      "outputs": []
    },
    {
      "cell_type": "code",
      "source": [
        "messages=[{'role':'system','content':system_role},\n",
        "          {'role':'user','content':user_prompt}\n",
        "          ]"
      ],
      "metadata": {
        "id": "DvnDg4x5aoF0"
      },
      "execution_count": 10,
      "outputs": []
    },
    {
      "cell_type": "code",
      "source": [
        "print(get_response(messages))"
      ],
      "metadata": {
        "colab": {
          "base_uri": "https://localhost:8080/",
          "height": 0
        },
        "id": "AnwFIVvUatCx",
        "outputId": "ffb8b3dc-29bf-400a-c1ed-323b895f09c1"
      },
      "execution_count": 11,
      "outputs": [
        {
          "output_type": "stream",
          "name": "stdout",
          "text": [
            "The appropriate treatment for this patient, who is experiencing itchy, watery eyes and conjunctival injection consistent with allergic conjunctivitis, would be:\n",
            "\n",
            "**B) Ketotifen eye drops**\n",
            "\n",
            "Ketotifen is an antihistamine that will help alleviate the allergic symptoms by blocking histamine receptors and is commonly used to treat allergic conjunctivitis.\n"
          ]
        }
      ]
    },
    {
      "cell_type": "markdown",
      "source": [
        "# **One Shot Prompting**"
      ],
      "metadata": {
        "id": "0UlEf2LcbXLF"
      }
    },
    {
      "cell_type": "code",
      "source": [
        "user_prompt = f\"\"\"\n",
        "Question: {qa_pairs[0]['question']}\n",
        "\n",
        "Choices:\n",
        "A) {qa_pairs[0]['choices'][0]['value']}\n",
        "B) {qa_pairs[0]['choices'][1]['value']}\n",
        "C) {qa_pairs[0]['choices'][2]['value']}\n",
        "D) {qa_pairs[0]['choices'][3]['value']}\n",
        "E) {qa_pairs[0]['choices'][4]['value']}\n",
        "\n",
        "Answer: {qa_pairs[0]['answer']}  ,\n",
        "Question: {qa_pairs[4]['question']}\n",
        "\n",
        "Choices:\n",
        "A) {qa_pairs[4]['choices'][0]['value']}\n",
        "B) {qa_pairs[4]['choices'][1]['value']}\n",
        "C) {qa_pairs[4]['choices'][2]['value']}\n",
        "D) {qa_pairs[4]['choices'][3]['value']}\n",
        "E) {qa_pairs[4]['choices'][4]['value']}\n",
        "\n",
        "Answer:\n",
        "\n",
        "\"\"\"\n"
      ],
      "metadata": {
        "id": "-kYSUdMjbcvw"
      },
      "execution_count": 12,
      "outputs": []
    },
    {
      "cell_type": "code",
      "source": [
        "messages=[{'role':'system','content':system_role},\n",
        "          {'role':'user','content':user_prompt}\n",
        "          ]"
      ],
      "metadata": {
        "id": "X-un5KvcbmF_"
      },
      "execution_count": 13,
      "outputs": []
    },
    {
      "cell_type": "code",
      "source": [
        "print(get_response(messages))"
      ],
      "metadata": {
        "colab": {
          "base_uri": "https://localhost:8080/",
          "height": 0
        },
        "id": "27piQKVIboB_",
        "outputId": "f7611632-506b-4cc5-882c-1b32650fe4e2"
      },
      "execution_count": 14,
      "outputs": [
        {
          "output_type": "stream",
          "name": "stdout",
          "text": [
            "The patient presents with symptoms consistent with allergic conjunctivitis, characterized by itchy, watery eyes, sneezing, and a history of similar episodes during springtime. \n",
            "\n",
            "The most appropriate treatment for allergic conjunctivitis, particularly when there is evidence of conjunctival injection and watery discharge, is an antihistamine. \n",
            "\n",
            "Among the choices provided, the best option is:\n",
            "\n",
            "**B) Ketotifen eye drops**\n",
            "\n",
            "Ketotifen is an antihistamine with mast cell stabilizing properties, making it effective for relieving allergic symptoms in the eyes. Other options, such as erythromycin ointment or fluorometholone eye drops, are not suitable for treating allergic conjunctivitis. Warm compresses can provide comfort but do not treat the underlying cause. Latanoprost is used for glaucoma and is not appropriate in this case.\n"
          ]
        }
      ]
    },
    {
      "cell_type": "markdown",
      "source": [
        "# **Zero Shot Prompting**"
      ],
      "metadata": {
        "id": "7PJErdrLbtS0"
      }
    },
    {
      "cell_type": "code",
      "source": [
        "user_prompt = f\"\"\"\n",
        "Question: {qa_pairs[4]['question']}\n",
        "\n",
        "Choices:\n",
        "A) {qa_pairs[4]['choices'][0]['value']}\n",
        "B) {qa_pairs[4]['choices'][1]['value']}\n",
        "C) {qa_pairs[4]['choices'][2]['value']}\n",
        "D) {qa_pairs[4]['choices'][3]['value']}\n",
        "E) {qa_pairs[4]['choices'][4]['value']}\n",
        "\n",
        "Answer:\n",
        "\n",
        "\"\"\"\n"
      ],
      "metadata": {
        "id": "s2jx5B9kbweh"
      },
      "execution_count": 15,
      "outputs": []
    },
    {
      "cell_type": "code",
      "source": [
        "messages=[{'role':'system','content':system_role},\n",
        "          {'role':'user','content':user_prompt}\n",
        "          ]"
      ],
      "metadata": {
        "id": "A2pfdQlVb0u0"
      },
      "execution_count": 16,
      "outputs": []
    },
    {
      "cell_type": "code",
      "source": [
        "print(get_response(messages))"
      ],
      "metadata": {
        "colab": {
          "base_uri": "https://localhost:8080/",
          "height": 0
        },
        "id": "38fZneMkb3RF",
        "outputId": "24732018-dd3f-4171-e12a-d77d06663860"
      },
      "execution_count": 17,
      "outputs": [
        {
          "output_type": "stream",
          "name": "stdout",
          "text": [
            "The clinical scenario described is consistent with allergic conjunctivitis, given the patient's symptoms of itchy, watery eyes, sneezing, and previous similar episodes during springtime. The presence of bilateral conjunctival injection with watery discharge further supports this diagnosis. \n",
            "\n",
            "The most effective treatment for allergic conjunctivitis typically includes antihistamines. Among the choices provided, **B) Ketotifen eye drops** are a combination of an antihistamine and a mast cell stabilizer, making them a suitable option for treating allergic conjunctivitis.\n",
            "\n",
            "Therefore, the most appropriate treatment for this patient is:\n",
            "\n",
            "**B) Ketotifen eye drops.**\n"
          ]
        }
      ]
    }
  ]
}