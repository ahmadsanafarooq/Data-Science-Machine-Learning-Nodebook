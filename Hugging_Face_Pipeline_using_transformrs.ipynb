{
  "nbformat": 4,
  "nbformat_minor": 0,
  "metadata": {
    "colab": {
      "provenance": [],
      "authorship_tag": "ABX9TyPM0ZEsS4oc9iHThSB6Aa5M",
      "include_colab_link": true
    },
    "kernelspec": {
      "name": "python3",
      "display_name": "Python 3"
    },
    "language_info": {
      "name": "python"
    }
  },
  "cells": [
    {
      "cell_type": "markdown",
      "metadata": {
        "id": "view-in-github",
        "colab_type": "text"
      },
      "source": [
        "<a href=\"https://colab.research.google.com/github/ahmadsanafarooq/Data-Science-Machine-Learning-Nodebook/blob/main/Hugging_Face_Pipeline_using_transformrs.ipynb\" target=\"_parent\"><img src=\"https://colab.research.google.com/assets/colab-badge.svg\" alt=\"Open In Colab\"/></a>"
      ]
    },
    {
      "cell_type": "markdown",
      "source": [
        "!pip install transformers"
      ],
      "metadata": {
        "id": "KXPRqK5m4bHd"
      }
    },
    {
      "cell_type": "code",
      "execution_count": 4,
      "metadata": {
        "id": "_UfbGkMeyeT0"
      },
      "outputs": [],
      "source": [
        "from transformers import pipeline"
      ]
    },
    {
      "cell_type": "markdown",
      "source": [
        "# **Sentiment Analysis**"
      ],
      "metadata": {
        "id": "GgYbilJdzCFo"
      }
    },
    {
      "cell_type": "code",
      "source": [
        "classifier=pipeline(\"sentiment-analysis\")\n"
      ],
      "metadata": {
        "id": "rc0s4Z3oy-Fb"
      },
      "execution_count": null,
      "outputs": []
    },
    {
      "cell_type": "code",
      "source": [
        "text=\"i am happy\"\n",
        "classifier(text)"
      ],
      "metadata": {
        "colab": {
          "base_uri": "https://localhost:8080/"
        },
        "id": "fvyKvED6zOG3",
        "outputId": "498fe579-70d9-4d50-ed5a-0a88d54543b8"
      },
      "execution_count": 6,
      "outputs": [
        {
          "output_type": "execute_result",
          "data": {
            "text/plain": [
              "[{'label': 'POSITIVE', 'score': 0.9998801946640015}]"
            ]
          },
          "metadata": {},
          "execution_count": 6
        }
      ]
    },
    {
      "cell_type": "code",
      "source": [
        "text_1=\"i am sad\"\n",
        "classifier(text_1)"
      ],
      "metadata": {
        "colab": {
          "base_uri": "https://localhost:8080/"
        },
        "id": "ieiCX4e7zdB6",
        "outputId": "8c6c4a27-b4ec-4898-8e05-e0eb26399695"
      },
      "execution_count": 7,
      "outputs": [
        {
          "output_type": "execute_result",
          "data": {
            "text/plain": [
              "[{'label': 'NEGATIVE', 'score': 0.9991856217384338}]"
            ]
          },
          "metadata": {},
          "execution_count": 7
        }
      ]
    },
    {
      "cell_type": "code",
      "source": [
        "text_2=\"Innovative ideas drive progress and inspire change.\"\n",
        "classifier(text_2)"
      ],
      "metadata": {
        "colab": {
          "base_uri": "https://localhost:8080/"
        },
        "id": "Q2mUjc_mz8SO",
        "outputId": "87df16f2-33ef-43f7-b259-ddb905bca31e"
      },
      "execution_count": 9,
      "outputs": [
        {
          "output_type": "execute_result",
          "data": {
            "text/plain": [
              "[{'label': 'POSITIVE', 'score': 0.9998352527618408}]"
            ]
          },
          "metadata": {},
          "execution_count": 9
        }
      ]
    },
    {
      "cell_type": "code",
      "source": [
        "text_3=\"\"\"He ignored her calls, angry from their fight.\n",
        "The next morning, he read the news: a fatal accident on her route home.\n",
        " His phone buzzed—a final message from her: “I’m sorry.\n",
        " Let’s talk.” Regret consumed him; silence had stolen their last chance.\n",
        " \"\"\"\n",
        "classifier(text_3)"
      ],
      "metadata": {
        "colab": {
          "base_uri": "https://localhost:8080/"
        },
        "id": "2LMkYPeez_7Y",
        "outputId": "a02c6401-d3c9-4efe-ceed-33a593b2607e"
      },
      "execution_count": 10,
      "outputs": [
        {
          "output_type": "execute_result",
          "data": {
            "text/plain": [
              "[{'label': 'NEGATIVE', 'score': 0.9988951086997986}]"
            ]
          },
          "metadata": {},
          "execution_count": 10
        }
      ]
    },
    {
      "cell_type": "code",
      "source": [
        "text_4=\"\"\"\n",
        "Each sunrise brings a fresh start, illuminating paths once hidden.\n",
        "With every step forward, confidence grows, and possibilities expand.\n",
        "Challenges become lessons, and dreams transform into achievable goals.\n",
        "Embrace the journey with optimism, for within each moment lies the potential to create a brighter, fulfilling future.\n",
        " \"\"\"\n",
        "classifier(text_4)"
      ],
      "metadata": {
        "colab": {
          "base_uri": "https://localhost:8080/"
        },
        "id": "1aqOqBZN0V29",
        "outputId": "4c45575f-f648-4039-bfeb-424b979b791f"
      },
      "execution_count": 12,
      "outputs": [
        {
          "output_type": "execute_result",
          "data": {
            "text/plain": [
              "[{'label': 'POSITIVE', 'score': 0.99979168176651}]"
            ]
          },
          "metadata": {},
          "execution_count": 12
        }
      ]
    },
    {
      "cell_type": "markdown",
      "source": [
        "# **Next Word Prediction**"
      ],
      "metadata": {
        "id": "VlhygSWZ0_03"
      }
    },
    {
      "cell_type": "code",
      "source": [
        "generator=pipeline(\"text-generation\")"
      ],
      "metadata": {
        "colab": {
          "base_uri": "https://localhost:8080/"
        },
        "id": "n7DJJMtY0t8L",
        "outputId": "f677fe1b-f679-41a0-c6f1-85861f88a0bd"
      },
      "execution_count": 14,
      "outputs": [
        {
          "output_type": "stream",
          "name": "stderr",
          "text": [
            "No model was supplied, defaulted to openai-community/gpt2 and revision 607a30d (https://huggingface.co/openai-community/gpt2).\n",
            "Using a pipeline without specifying a model name and revision in production is not recommended.\n",
            "Device set to use cpu\n"
          ]
        }
      ]
    },
    {
      "cell_type": "code",
      "source": [
        "text=\"The world is \"\n",
        "generator(text)"
      ],
      "metadata": {
        "colab": {
          "base_uri": "https://localhost:8080/"
        },
        "id": "9KGzux4l1ck_",
        "outputId": "3b75b478-dc32-4f98-b39d-f22eb94bf289"
      },
      "execution_count": 16,
      "outputs": [
        {
          "output_type": "stream",
          "name": "stderr",
          "text": [
            "Setting `pad_token_id` to `eos_token_id`:50256 for open-end generation.\n"
          ]
        },
        {
          "output_type": "execute_result",
          "data": {
            "text/plain": [
              "[{'generated_text': \"The world is iced cold but a tiny sliver of ice cream is still a bit of cheese, thanks to a new, simple solution that has taken many years to develop.\\n\\nA little trick we all know and love: It's a\"}]"
            ]
          },
          "metadata": {},
          "execution_count": 16
        }
      ]
    },
    {
      "cell_type": "code",
      "source": [
        "text_1=\"Python is a \"\n",
        "generator(text_1)"
      ],
      "metadata": {
        "colab": {
          "base_uri": "https://localhost:8080/"
        },
        "id": "qjbP47Oj1ske",
        "outputId": "cd83a5aa-6cfd-4e3b-9047-80cdc6afbdd4"
      },
      "execution_count": 25,
      "outputs": [
        {
          "output_type": "stream",
          "name": "stderr",
          "text": [
            "Setting `pad_token_id` to `eos_token_id`:50256 for open-end generation.\n"
          ]
        },
        {
          "output_type": "execute_result",
          "data": {
            "text/plain": [
              "[{'generated_text': 'Python is a vernacular language for creating, compiling, and manipulating source code. The language is built mostly out of Rust and the other languages, while running a compiler like C++. The API is fully automated with Python 3 and has been integrated'}]"
            ]
          },
          "metadata": {},
          "execution_count": 25
        }
      ]
    },
    {
      "cell_type": "markdown",
      "source": [
        "# **Text Summarization**"
      ],
      "metadata": {
        "id": "RdbsjfdO2cY1"
      }
    },
    {
      "cell_type": "code",
      "source": [
        "summarization=pipeline(\"summarization\")"
      ],
      "metadata": {
        "id": "8FRMald615KU"
      },
      "execution_count": null,
      "outputs": []
    },
    {
      "cell_type": "code",
      "source": [
        "text=\"\"\"\n",
        "A Day in the Life of a Raindrop\n",
        "I drift from clouds with silent grace,\n",
        "A silver bead in endless space.\n",
        "Through cotton skies, I make my way,\n",
        "To greet the earth in soft ballet.\n",
        "I kiss the leaves, the thirsty ground,\n",
        "Awakening life where I am found.\n",
        "I join my kin in streams that glide,\n",
        "Together on a watery ride.\n",
        "We carve through rocks, we dance on stone,\n",
        "In rivers wide, we're not alone.\n",
        "We nourish fields, we quench the trees,\n",
        "We ride the wind, we chase the breeze.\n",
        "As sunlight breaks, I rise once more,\n",
        "A mist ascending to the shore.\n",
        "Back to the clouds, my journey's loop,\n",
        "To start anew in nature's troupe.\n",
        "\"\"\""
      ],
      "metadata": {
        "id": "ImaCbUfr2il4"
      },
      "execution_count": 27,
      "outputs": []
    },
    {
      "cell_type": "code",
      "source": [
        "summarization(text)"
      ],
      "metadata": {
        "colab": {
          "base_uri": "https://localhost:8080/"
        },
        "id": "T8FIW8gE21p7",
        "outputId": "b5f5d86e-46ec-4901-af24-1d5f2f6021d7"
      },
      "execution_count": 28,
      "outputs": [
        {
          "output_type": "execute_result",
          "data": {
            "text/plain": [
              "[{'summary_text': ' A Day in the Life of a Raindrop is a short story about a day spent in the rain . The story follows the journey of a raindrop through the clouds and streams . The author has published a collection of photographs and videos that accompany the book, The Raindrop . The book is published in the U.S. State Department of Education .'}]"
            ]
          },
          "metadata": {},
          "execution_count": 28
        }
      ]
    },
    {
      "cell_type": "code",
      "source": [
        "text2=\"\"\"\n",
        "The sun dips low, painting skies with gold,\n",
        "Whispers of wind through leaves unfold.\n",
        "Shadows stretch across the land,\n",
        "Night's gentle touch begins to expand.\n",
        "Stars emerge in the twilight's hue,\n",
        "A canvas of dreams in midnight's view.\n",
        "Crickets sing their lullaby tune,\n",
        "Dancing beneath the rising moon.\n",
        "In this calm, my thoughts take flight,\n",
        "Embraced by the serenity of night.\n",
        "\"\"\""
      ],
      "metadata": {
        "id": "EnNV0eS63DiO"
      },
      "execution_count": 31,
      "outputs": []
    },
    {
      "cell_type": "code",
      "source": [
        "summarization(text2)"
      ],
      "metadata": {
        "colab": {
          "base_uri": "https://localhost:8080/"
        },
        "id": "SpzfSabA3JiT",
        "outputId": "6dc7ac38-e9ef-422c-f4c5-9c0e473e6856"
      },
      "execution_count": 32,
      "outputs": [
        {
          "output_type": "stream",
          "name": "stderr",
          "text": [
            "Your max_length is set to 142, but your input_length is only 100. Since this is a summarization task, where outputs shorter than the input are typically wanted, you might consider decreasing max_length manually, e.g. summarizer('...', max_length=50)\n"
          ]
        },
        {
          "output_type": "execute_result",
          "data": {
            "text/plain": [
              "[{'summary_text': ' The sun dips low, painting skies with gold, creating a canvas of dreams in midnight\\'s view . The author\\'s thoughts take flight in this calm, embracing the serenity of night . Heavily written, he says: \"In this calm of night, I\\'m embracing the peace of the night\"'}]"
            ]
          },
          "metadata": {},
          "execution_count": 32
        }
      ]
    },
    {
      "cell_type": "code",
      "source": [],
      "metadata": {
        "id": "aHyOHo4H3opc"
      },
      "execution_count": null,
      "outputs": []
    }
  ]
}