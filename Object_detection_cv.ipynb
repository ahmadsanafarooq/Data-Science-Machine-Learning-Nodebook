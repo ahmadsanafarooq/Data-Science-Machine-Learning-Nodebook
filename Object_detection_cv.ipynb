{
 "cells": [
  {
   "cell_type": "markdown",
   "id": "e3503188",
   "metadata": {},
   "source": [
    "# **First run below commands** \n",
    "* pip install torch torchvision torchaudio\n",
    "* pip install opencv-python\n",
    "* pip install ultralytics\n",
    "* git clone https://github.com/ultralytics/yolov5\n",
    "* cd yolov5\n",
    "* python detect.py --weights yolov5s.pt --source \"video path\"\n",
    "* pip install -r requirements.txt\n",
    "\n"
   ]
  },
  {
   "cell_type": "markdown",
   "id": "9ad4fbed",
   "metadata": {},
   "source": [
    "# **In second step run below code**"
   ]
  },
  {
   "cell_type": "code",
   "execution_count": 2,
   "id": "02c59ecf",
   "metadata": {},
   "outputs": [],
   "source": [
    "import cv2\n",
    "import torch"
   ]
  },
  {
   "cell_type": "code",
   "execution_count": 4,
   "id": "3e6fb838",
   "metadata": {},
   "outputs": [
    {
     "name": "stderr",
     "output_type": "stream",
     "text": [
      "Using cache found in C:\\Users\\ahmad/.cache\\torch\\hub\\ultralytics_yolov5_master\n",
      "YOLOv5  2025-5-14 Python-3.10.11 torch-2.7.0+cpu CPU\n",
      "\n",
      "Fusing layers... \n",
      "YOLOv5s summary: 213 layers, 7225885 parameters, 0 gradients, 16.4 GFLOPs\n",
      "Adding AutoShape... \n"
     ]
    }
   ],
   "source": [
    "# Load model\n",
    "model = torch.hub.load('ultralytics/yolov5', 'yolov5s', pretrained=True)"
   ]
  },
  {
   "cell_type": "code",
   "execution_count": 5,
   "id": "2e6fdf1d",
   "metadata": {},
   "outputs": [
    {
     "name": "stderr",
     "output_type": "stream",
     "text": [
      "C:\\Users\\ahmad/.cache\\torch\\hub\\ultralytics_yolov5_master\\models\\common.py:907: FutureWarning: `torch.cuda.amp.autocast(args...)` is deprecated. Please use `torch.amp.autocast('cuda', args...)` instead.\n",
      "  with amp.autocast(autocast):\n",
      "C:\\Users\\ahmad/.cache\\torch\\hub\\ultralytics_yolov5_master\\models\\common.py:907: FutureWarning: `torch.cuda.amp.autocast(args...)` is deprecated. Please use `torch.amp.autocast('cuda', args...)` instead.\n",
      "  with amp.autocast(autocast):\n",
      "C:\\Users\\ahmad/.cache\\torch\\hub\\ultralytics_yolov5_master\\models\\common.py:907: FutureWarning: `torch.cuda.amp.autocast(args...)` is deprecated. Please use `torch.amp.autocast('cuda', args...)` instead.\n",
      "  with amp.autocast(autocast):\n",
      "C:\\Users\\ahmad/.cache\\torch\\hub\\ultralytics_yolov5_master\\models\\common.py:907: FutureWarning: `torch.cuda.amp.autocast(args...)` is deprecated. Please use `torch.amp.autocast('cuda', args...)` instead.\n",
      "  with amp.autocast(autocast):\n",
      "C:\\Users\\ahmad/.cache\\torch\\hub\\ultralytics_yolov5_master\\models\\common.py:907: FutureWarning: `torch.cuda.amp.autocast(args...)` is deprecated. Please use `torch.amp.autocast('cuda', args...)` instead.\n",
      "  with amp.autocast(autocast):\n",
      "C:\\Users\\ahmad/.cache\\torch\\hub\\ultralytics_yolov5_master\\models\\common.py:907: FutureWarning: `torch.cuda.amp.autocast(args...)` is deprecated. Please use `torch.amp.autocast('cuda', args...)` instead.\n",
      "  with amp.autocast(autocast):\n",
      "C:\\Users\\ahmad/.cache\\torch\\hub\\ultralytics_yolov5_master\\models\\common.py:907: FutureWarning: `torch.cuda.amp.autocast(args...)` is deprecated. Please use `torch.amp.autocast('cuda', args...)` instead.\n",
      "  with amp.autocast(autocast):\n",
      "C:\\Users\\ahmad/.cache\\torch\\hub\\ultralytics_yolov5_master\\models\\common.py:907: FutureWarning: `torch.cuda.amp.autocast(args...)` is deprecated. Please use `torch.amp.autocast('cuda', args...)` instead.\n",
      "  with amp.autocast(autocast):\n",
      "C:\\Users\\ahmad/.cache\\torch\\hub\\ultralytics_yolov5_master\\models\\common.py:907: FutureWarning: `torch.cuda.amp.autocast(args...)` is deprecated. Please use `torch.amp.autocast('cuda', args...)` instead.\n",
      "  with amp.autocast(autocast):\n"
     ]
    }
   ],
   "source": [
    "# Load video\n",
    "cap = cv2.VideoCapture(r'E:\\DS Material\\Computer Vision\\video.mp4')  # use 0 for webcam\n",
    "\n",
    "while cap.isOpened():\n",
    "    ret, frame = cap.read()\n",
    "    if not ret:\n",
    "        break\n",
    "\n",
    "    # Inference\n",
    "    results = model(frame)\n",
    "\n",
    "    # Draw results\n",
    "    annotated_frame = results.render()[0]  # rendered frame with boxes\n",
    "\n",
    "    cv2.imshow('YOLO Detection', annotated_frame)\n",
    "    if cv2.waitKey(1) & 0xFF == ord('q'):\n",
    "        break\n",
    "\n",
    "cap.release()\n",
    "cv2.destroyAllWindows()"
   ]
  }
 ],
 "metadata": {
  "kernelspec": {
   "display_name": "cv",
   "language": "python",
   "name": "python3"
  },
  "language_info": {
   "codemirror_mode": {
    "name": "ipython",
    "version": 3
   },
   "file_extension": ".py",
   "mimetype": "text/x-python",
   "name": "python",
   "nbconvert_exporter": "python",
   "pygments_lexer": "ipython3",
   "version": "3.10.11"
  }
 },
 "nbformat": 4,
 "nbformat_minor": 5
}
