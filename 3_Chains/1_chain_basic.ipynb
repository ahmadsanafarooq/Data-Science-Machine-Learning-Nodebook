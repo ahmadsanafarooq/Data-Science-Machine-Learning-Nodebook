{
 "cells": [
  {
   "cell_type": "markdown",
   "id": "49ad50eb",
   "metadata": {},
   "source": [
    "**Chain:**\n",
    "\n",
    "*In LangChain, a chain is a core concept that refers to a sequence of operations.*\n",
    "* like calling an Task1, Task2, Task3 etc.\n",
    "* linked together to accomplish a specific task. \n",
    "* Chains allow you to build more complex and powerful applications than just calling an LLM directly.\n",
    "\n",
    "**Types of Chaining**\n",
    "\n",
    "1. **Extend or Sequential Chaining**: This is the most common type of chaining where each task is executed one by one in a straight/sequential line\n",
    "   *Example*: Task1 -> Task2 -> Task3 etc (Do task in sequence)\n",
    "\n",
    "2. **Parallel Chaining**: This type of chaining allows you to execute multiple tasks in parallel, which can significantly speed up the execution\n",
    "    *Example*: TServe breakfast with coffee , toast and fried egg at the same time. (Do multiple task at the same time Parallel) \n",
    "     * *Task 1*: Brewing Coffee\n",
    "     * *Task 2*: Toasting Bread\n",
    "     * *Task 3*: Cooking Fried Egg\n",
    "\n",
    "3. **Conditional Chaining**: This type of chaining allows you to execute tasks based on certain conditions.\n",
    "    *Example*: If condition is true then execute Task1 else execute Task2 etc (Do task based on condition)"
   ]
  },
  {
   "cell_type": "code",
   "execution_count": 16,
   "id": "50efa6a9",
   "metadata": {},
   "outputs": [],
   "source": [
    "from dotenv import load_dotenv\n",
    "from langchain.prompts import ChatPromptTemplate\n",
    "from langchain.schema.output_parser import StrOutputParser\n",
    "from langchain_google_genai import ChatGoogleGenerativeAI"
   ]
  },
  {
   "cell_type": "code",
   "execution_count": 17,
   "id": "3fea2545",
   "metadata": {},
   "outputs": [],
   "source": [
    "load_dotenv()\n",
    "llm = ChatGoogleGenerativeAI(model=\"gemini-2.0-flash\")"
   ]
  },
  {
   "cell_type": "code",
   "execution_count": 20,
   "id": "aa65cb1c",
   "metadata": {},
   "outputs": [
    {
     "name": "stdout",
     "output_type": "stream",
     "text": [
      "Okay, here are 5 facts about cats:\n",
      "\n",
      "1.  **Cats have a specialized collarbone:** Unlike humans, a cat's collarbone isn't connected to other bones. It's embedded in their shoulder muscles. This allows them a great range of motion and flexibility, helping them squeeze through tight spaces.\n",
      "\n",
      "2.  **Cats can make over 100 different sounds:** In contrast, dogs can only make about 10 different sounds. Cats use a wide range of vocalizations to communicate, including meows, purrs, hisses, growls, and more.\n",
      "\n",
      "3.  **Cats have a third eyelid:** Called a nictitating membrane, this eyelid is located in the inner corner of the eye. It helps to keep the eye lubricated and protected.\n",
      "\n",
      "4.  **Cats' whiskers are sensory tools:** Whiskers aren't just cute; they help cats navigate and perceive their environment. They're about as wide as their body and are very sensitive to changes in airflow, helping them detect objects and navigate in the dark.\n",
      "\n",
      "5.  **Cats are crepuscular animals:** This means they are most active during dawn and dusk. This is believed to be because their preferred prey (rodents) are also most active during these times.\n"
     ]
    }
   ],
   "source": [
    "prompt_template = ChatPromptTemplate.from_messages(\n",
    "    [\n",
    "        (\"system\", \"You are a facts expert who knows facts about {animal}.\"),\n",
    "        (\"human\", \"Tell me {facts_count} facts.\"),\n",
    "    ]\n",
    ")\n",
    "\n",
    "chain= prompt_template | llm | StrOutputParser()\n",
    "\n",
    "result = chain.invoke({\"animal\":\"cat\" , \"facts_count\":5})\n",
    "\n",
    "print(result)"
   ]
  }
 ],
 "metadata": {
  "kernelspec": {
   "display_name": ".agents",
   "language": "python",
   "name": "python3"
  },
  "language_info": {
   "codemirror_mode": {
    "name": "ipython",
    "version": 3
   },
   "file_extension": ".py",
   "mimetype": "text/x-python",
   "name": "python",
   "nbconvert_exporter": "python",
   "pygments_lexer": "ipython3",
   "version": "3.10.11"
  }
 },
 "nbformat": 4,
 "nbformat_minor": 5
}
